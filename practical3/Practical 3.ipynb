{
 "cells": [
  {
   "cell_type": "markdown",
   "metadata": {},
   "source": [
    "# Introduction to Data Mining\n",
    "## Practical 3 excercises"
   ]
  },
  {
   "cell_type": "markdown",
   "metadata": {},
   "source": [
    "### Part 1: Planning\n",
    "1\\. The owner of a shop selling products for kitchen renovations, her name is Lin, decides that she should extend the range of products she offers to also sell homeware products (e.g. decorations, baskets, glassware, pictures etc). Having had success using customer data to build predictive models to guide direct mail campaigns for special product offers, she considers that data mining could help her to identify a subset of customers who should be good prospects for the new set of products. Is Lin ready to solve this as a supervised learning problem? What would you suggest as the target variable? Be precise. Is there anything else that you would recommend that Lin do to achieve her business goal? "
   ]
  },
  {
   "attachments": {},
   "cell_type": "markdown",
   "metadata": {},
   "source": [
    "**My Answer:**\n",
    "1. Yes, this problem can be solved by supervised learning. \n",
    "2. Lin may see this as a classification problem and try to use decision tree, logistic regression or other classifier to classify her customers, than find out those who may have interest in buying her homeware products. \n",
    "3. I would suggest to use the send-mail-or-not binary varible as the target variable. Based on historic data, she can devide her customers into those who is likely to be attracted by special offer and those who isn't. Thus, she can send offer to the former.\n",
    "4. After her range of products extends, she can also try to use regression on the sales of her products, in order to predict what item will sells better and should be prepared in advance."
   ]
  },
  {
   "cell_type": "markdown",
   "metadata": {},
   "source": [
    "***"
   ]
  },
  {
   "cell_type": "markdown",
   "metadata": {},
   "source": [
    "### Part 2: Evaluation Metrics\n",
    "Answer each of the following questions. "
   ]
  },
  {
   "cell_type": "markdown",
   "metadata": {},
   "source": [
    "1\\. What are problems with using accuracy to evaluate the performance of a model? "
   ]
  },
  {
   "cell_type": "markdown",
   "metadata": {},
   "source": [
    "**My Answer:**\n",
    "1. You hardly know what accuracy can be considered as good for a model.\n",
    "2. If the data is not selected correctly, the result of random choosing may already be good enough. (Null Error Rate)\n",
    "3. Accuracy can not describe the quality of the model thoroughly. A model may have a high accuracy with a high FN rate, and this may be unacceptable for fields like idenitify checking."
   ]
  },
  {
   "cell_type": "markdown",
   "metadata": {},
   "source": [
    "2\\. Describe k-fold cross validation. What are some of it's advantages when compared to a simple, single hold-out data set. Are there any disadvantages you can think of? "
   ]
  },
  {
   "cell_type": "markdown",
   "metadata": {},
   "source": [
    "**My Answer:**\n",
    "\n",
    "K-fold cross validation: Take the data set and seperate it into k parts equally. For each part, take the part itself as the test set and the rest as the training set. Training a new model with the training set and evaluate it with the test set. Repeat this process for each part, and you will get K different models. Then you can compare their performance and choose the best one.\n",
    "\n",
    "Advantage: Make use of the most of the data. Have a higher possibility to construct a better model.\n",
    "\n",
    "Disadvantage: Takes more time and resource. The process is rather complicated."
   ]
  },
  {
   "cell_type": "markdown",
   "metadata": {},
   "source": [
    "***"
   ]
  },
  {
   "cell_type": "markdown",
   "metadata": {},
   "source": [
    "### Part 2: Data"
   ]
  },
  {
   "cell_type": "markdown",
   "metadata": {},
   "source": [
    "The data consists of a mail response data set from a direct marketing campaign. It is located in `data/mailing.csv`. Each record (row) refers to an individual who was targeted with a direct marketing offer. The offer was for the individual to make a charitable donation. \n",
    "\n",
    "The columns (features/attributes) are as follows:\n",
    "\n",
    "```\n",
    "Col.  Name      Description\n",
    "----- --------- ----------------------------------------------------------------\n",
    "1     income    household income\n",
    "2     Firstdate data assoc. with the first gift by this individual\n",
    "3     Lastdate  data associated with the most recent gift \n",
    "4     Amount    average amount by this individual over all periods (incl. zeros)\n",
    "5     rfaf2     frequency code\n",
    "6     rfaa2     donation amount code\n",
    "7     pepstrfl  flag indicating a star donator\n",
    "8     glast     amount of last gift\n",
    "9     gavr      amount of average gift\n",
    "10    class     one if they gave in this campaign and zero otherwise.\n",
    "```\n",
    "\n",
    "In this practical the goal is to build a model to predict if people will give to the charitable cause during the current campaign (this is the attribute `\"class\"` which has a value of 1 if they gave money and 0 if they did not)."
   ]
  },
  {
   "cell_type": "markdown",
   "metadata": {},
   "source": [
    "First read the data in and put the target variable in `Y` and the features in `X`."
   ]
  },
  {
   "cell_type": "code",
   "execution_count": 1,
   "metadata": {
    "collapsed": true
   },
   "outputs": [],
   "source": [
    "import pandas as pd\n",
    "\n",
    "# Read data using pandas\n",
    "data = pd.read_csv(\"data/mailing.csv\")\n",
    "\n",
    "# Split into X and Y\n",
    "X = data.drop(['class'], 1)\n",
    "Y = data['class']"
   ]
  },
  {
   "cell_type": "code",
   "execution_count": 6,
   "metadata": {},
   "outputs": [
    {
     "data": {
      "text/html": [
       "<div>\n",
       "<style>\n",
       "    .dataframe thead tr:only-child th {\n",
       "        text-align: right;\n",
       "    }\n",
       "\n",
       "    .dataframe thead th {\n",
       "        text-align: left;\n",
       "    }\n",
       "\n",
       "    .dataframe tbody tr th {\n",
       "        vertical-align: top;\n",
       "    }\n",
       "</style>\n",
       "<table border=\"1\" class=\"dataframe\">\n",
       "  <thead>\n",
       "    <tr style=\"text-align: right;\">\n",
       "      <th></th>\n",
       "      <th>Income</th>\n",
       "      <th>Firstdate</th>\n",
       "      <th>Lastdate</th>\n",
       "      <th>Amount</th>\n",
       "      <th>rfaf2</th>\n",
       "      <th>glast</th>\n",
       "      <th>gavr</th>\n",
       "      <th>rfaa2_G</th>\n",
       "      <th>rfaa2_E</th>\n",
       "      <th>rfaa2_F</th>\n",
       "      <th>pepstrfl_0</th>\n",
       "    </tr>\n",
       "  </thead>\n",
       "  <tbody>\n",
       "    <tr>\n",
       "      <th>count</th>\n",
       "      <td>191779.000000</td>\n",
       "      <td>191779.000000</td>\n",
       "      <td>191779.000000</td>\n",
       "      <td>191779.000000</td>\n",
       "      <td>191779.000000</td>\n",
       "      <td>191779.000000</td>\n",
       "      <td>191779.000000</td>\n",
       "      <td>191779.000000</td>\n",
       "      <td>191779.000000</td>\n",
       "      <td>191779.000000</td>\n",
       "      <td>191779.000000</td>\n",
       "    </tr>\n",
       "    <tr>\n",
       "      <th>mean</th>\n",
       "      <td>3.024142</td>\n",
       "      <td>9136.559602</td>\n",
       "      <td>9548.173189</td>\n",
       "      <td>0.174714</td>\n",
       "      <td>1.908113</td>\n",
       "      <td>17.391972</td>\n",
       "      <td>13.347193</td>\n",
       "      <td>0.202707</td>\n",
       "      <td>0.226172</td>\n",
       "      <td>0.493448</td>\n",
       "      <td>0.525975</td>\n",
       "    </tr>\n",
       "    <tr>\n",
       "      <th>std</th>\n",
       "      <td>2.300465</td>\n",
       "      <td>319.234876</td>\n",
       "      <td>49.376614</td>\n",
       "      <td>0.098978</td>\n",
       "      <td>1.072415</td>\n",
       "      <td>28.380052</td>\n",
       "      <td>10.138503</td>\n",
       "      <td>0.402017</td>\n",
       "      <td>0.418353</td>\n",
       "      <td>0.499958</td>\n",
       "      <td>0.499326</td>\n",
       "    </tr>\n",
       "    <tr>\n",
       "      <th>min</th>\n",
       "      <td>0.000000</td>\n",
       "      <td>0.000000</td>\n",
       "      <td>9503.000000</td>\n",
       "      <td>0.020000</td>\n",
       "      <td>1.000000</td>\n",
       "      <td>0.000000</td>\n",
       "      <td>1.280000</td>\n",
       "      <td>0.000000</td>\n",
       "      <td>0.000000</td>\n",
       "      <td>0.000000</td>\n",
       "      <td>0.000000</td>\n",
       "    </tr>\n",
       "    <tr>\n",
       "      <th>25%</th>\n",
       "      <td>1.000000</td>\n",
       "      <td>8811.000000</td>\n",
       "      <td>9509.000000</td>\n",
       "      <td>0.100000</td>\n",
       "      <td>1.000000</td>\n",
       "      <td>10.000000</td>\n",
       "      <td>8.400000</td>\n",
       "      <td>0.000000</td>\n",
       "      <td>0.000000</td>\n",
       "      <td>0.000000</td>\n",
       "      <td>0.000000</td>\n",
       "    </tr>\n",
       "    <tr>\n",
       "      <th>50%</th>\n",
       "      <td>3.000000</td>\n",
       "      <td>9201.000000</td>\n",
       "      <td>9512.000000</td>\n",
       "      <td>0.150000</td>\n",
       "      <td>1.000000</td>\n",
       "      <td>15.000000</td>\n",
       "      <td>11.660000</td>\n",
       "      <td>0.000000</td>\n",
       "      <td>0.000000</td>\n",
       "      <td>0.000000</td>\n",
       "      <td>1.000000</td>\n",
       "    </tr>\n",
       "    <tr>\n",
       "      <th>75%</th>\n",
       "      <td>5.000000</td>\n",
       "      <td>9409.000000</td>\n",
       "      <td>9602.000000</td>\n",
       "      <td>0.220000</td>\n",
       "      <td>3.000000</td>\n",
       "      <td>20.000000</td>\n",
       "      <td>15.500000</td>\n",
       "      <td>0.000000</td>\n",
       "      <td>0.000000</td>\n",
       "      <td>1.000000</td>\n",
       "      <td>1.000000</td>\n",
       "    </tr>\n",
       "    <tr>\n",
       "      <th>max</th>\n",
       "      <td>7.000000</td>\n",
       "      <td>9603.000000</td>\n",
       "      <td>9702.000000</td>\n",
       "      <td>1.760000</td>\n",
       "      <td>4.000000</td>\n",
       "      <td>10000.000000</td>\n",
       "      <td>1000.000000</td>\n",
       "      <td>1.000000</td>\n",
       "      <td>1.000000</td>\n",
       "      <td>1.000000</td>\n",
       "      <td>1.000000</td>\n",
       "    </tr>\n",
       "  </tbody>\n",
       "</table>\n",
       "</div>"
      ],
      "text/plain": [
       "              Income      Firstdate       Lastdate         Amount  \\\n",
       "count  191779.000000  191779.000000  191779.000000  191779.000000   \n",
       "mean        3.024142    9136.559602    9548.173189       0.174714   \n",
       "std         2.300465     319.234876      49.376614       0.098978   \n",
       "min         0.000000       0.000000    9503.000000       0.020000   \n",
       "25%         1.000000    8811.000000    9509.000000       0.100000   \n",
       "50%         3.000000    9201.000000    9512.000000       0.150000   \n",
       "75%         5.000000    9409.000000    9602.000000       0.220000   \n",
       "max         7.000000    9603.000000    9702.000000       1.760000   \n",
       "\n",
       "               rfaf2          glast           gavr        rfaa2_G  \\\n",
       "count  191779.000000  191779.000000  191779.000000  191779.000000   \n",
       "mean        1.908113      17.391972      13.347193       0.202707   \n",
       "std         1.072415      28.380052      10.138503       0.402017   \n",
       "min         1.000000       0.000000       1.280000       0.000000   \n",
       "25%         1.000000      10.000000       8.400000       0.000000   \n",
       "50%         1.000000      15.000000      11.660000       0.000000   \n",
       "75%         3.000000      20.000000      15.500000       0.000000   \n",
       "max         4.000000   10000.000000    1000.000000       1.000000   \n",
       "\n",
       "             rfaa2_E        rfaa2_F     pepstrfl_0  \n",
       "count  191779.000000  191779.000000  191779.000000  \n",
       "mean        0.226172       0.493448       0.525975  \n",
       "std         0.418353       0.499958       0.499326  \n",
       "min         0.000000       0.000000       0.000000  \n",
       "25%         0.000000       0.000000       0.000000  \n",
       "50%         0.000000       0.000000       1.000000  \n",
       "75%         0.000000       1.000000       1.000000  \n",
       "max         1.000000       1.000000       1.000000  "
      ]
     },
     "execution_count": 6,
     "metadata": {},
     "output_type": "execute_result"
    }
   ],
   "source": [
    "X.describe()"
   ]
  },
  {
   "cell_type": "markdown",
   "metadata": {},
   "source": [
    "### Modelling and Learning Curve"
   ]
  },
  {
   "cell_type": "markdown",
   "metadata": {},
   "source": [
    "Create a decision tree (use entropy) and fit it and use it on **all** of the data."
   ]
  },
  {
   "cell_type": "code",
   "execution_count": 8,
   "metadata": {},
   "outputs": [
    {
     "name": "stdout",
     "output_type": "stream",
     "text": [
      "The accuracy is 0.995646030066\n"
     ]
    }
   ],
   "source": [
    "# Import decision trees and logistic regression\n",
    "from sklearn.tree import DecisionTreeClassifier\n",
    "from sklearn.linear_model import LogisticRegression\n",
    "\n",
    "# Import train, test, and evaluation functions\n",
    "from sklearn.metrics import accuracy_score\n",
    "\n",
    "# Create an object to learn the classifier (it is not fitted or learned at this stage)\n",
    "tree = DecisionTreeClassifier(criterion=\"entropy\")\n",
    "\n",
    "# Fit the model\n",
    "tree.fit(X, Y)\n",
    "\n",
    "# Get prediction on all data\n",
    "Y_predicted = tree.predict(X)\n",
    "\n",
    "# Get the accuracy over the dataset and compare to the actual points\n",
    "accuracy = accuracy_score(Y_predicted, Y)\n",
    "\n",
    "# Print the accuracy\n",
    "print (\"The accuracy is \" + str(accuracy))"
   ]
  },
  {
   "cell_type": "markdown",
   "metadata": {},
   "source": [
    "That's high accuracy... It may be overfitting to the data because no training data was used - test if the model performs on unseen data not used in training.\n",
    "\n",
    "Create train and test sets of `X` and `Y` where we assign 70% of our data to training (ie 100 - 30 % for test)."
   ]
  },
  {
   "cell_type": "code",
   "execution_count": 9,
   "metadata": {
    "collapsed": true
   },
   "outputs": [],
   "source": [
    "from sklearn.model_selection import train_test_split\n",
    "X_train, X_test, Y_train, Y_test = train_test_split(X, Y, test_size=0.30)"
   ]
  },
  {
   "cell_type": "markdown",
   "metadata": {},
   "source": [
    "Fit model just to training data"
   ]
  },
  {
   "cell_type": "code",
   "execution_count": 10,
   "metadata": {},
   "outputs": [
    {
     "name": "stdout",
     "output_type": "stream",
     "text": [
      "The accuracy is 0.898825042584\n"
     ]
    }
   ],
   "source": [
    "\n",
    "tree = DecisionTreeClassifier(criterion=\"entropy\")\n",
    "\n",
    "# Fit the tree on the training data\n",
    "tree.fit(X_train, Y_train)\n",
    "\n",
    "# Get a prediction from the tree on the test data\n",
    "Y_test_predicted = tree.predict(X_test)\n",
    "\n",
    "# Get the accuracy of this prediction\n",
    "accuracy = accuracy_score(Y_test_predicted, Y_test)\n",
    "\n",
    "# Print the accuracy\n",
    "print (\"The accuracy is \" + str(accuracy))"
   ]
  },
  {
   "cell_type": "markdown",
   "metadata": {},
   "source": [
    "Big difference - almost 10 percent. Which tree would you trust more to make predictions?"
   ]
  },
  {
   "cell_type": "markdown",
   "metadata": {},
   "source": [
    "**My answer:** The latter one."
   ]
  },
  {
   "cell_type": "markdown",
   "metadata": {},
   "source": [
    "## Team Problem"
   ]
  },
  {
   "cell_type": "markdown",
   "metadata": {},
   "source": [
    "Work in your project teams to answer this question."
   ]
  },
  {
   "cell_type": "markdown",
   "metadata": {},
   "source": [
    "Using the following code as a template try to measure the performance with different training data set sizes for the decision tree and a logistic regression model. \n",
    "\n",
    "Check the accuracy with percentages from 20% test data to 80% test data. \n",
    "\n",
    "Generate a plot that has percentages on the x-axis and accuracies on the y-axis. This is called a **learning curve**."
   ]
  },
  {
   "cell_type": "code",
   "execution_count": 11,
   "metadata": {
    "collapsed": true
   },
   "outputs": [],
   "source": [
    "# Import matplotlib for plotting\n",
    "import matplotlib.pylab as plt\n",
    "%matplotlib inline"
   ]
  },
  {
   "cell_type": "markdown",
   "metadata": {},
   "source": [
    "#### Learning curve"
   ]
  },
  {
   "cell_type": "code",
   "execution_count": 21,
   "metadata": {},
   "outputs": [
    {
     "data": {
      "image/png": "[encoded data removed]",
      "text/plain": [
       "<matplotlib.figure.Figure at 0x1e700e5c0f0>"
      ]
     },
     "metadata": {},
     "output_type": "display_data"
    }
   ],
   "source": [
    "# Here are some percentages to get you started. Feel free to try more!\n",
    "test_percentages = [0.99,0.98,0.97,0.96,0.95,0.94,0.93,0.92,0.91,0.90]\n",
    "accuracies = []\n",
    "\n",
    "for training_percentage in test_percentages:\n",
    "    # Here I am training on 70%. What should I change this to so that I can try many percentages?\n",
    "    X_train, X_test, Y_train, Y_test = train_test_split(X, Y, test_size=training_percentage)\n",
    "\n",
    "    # This will create an empty logistic regression\n",
    "    logistic = LogisticRegression()\n",
    "    \n",
    "    # This will fit/train your logistic regression\n",
    "    logistic.fit(X_train,Y_train)\n",
    "    \n",
    "    # This will get predictions\n",
    "    Y_test_predicted = logistic.predict(X_test)\n",
    "    \n",
    "    # With these predictions we can get an accuracy. Where should we store this accuracy?\n",
    "    accuracies.append(accuracy_score(Y_test, Y_test_predicted))\n",
    "\n",
    "# We want to plot our results. What list should we use for the x-axis? What about the y-axis?\n",
    "plt.plot(test_percentages,accuracies)\n",
    "plt.show()"
   ]
  },
  {
   "cell_type": "markdown",
   "metadata": {},
   "source": [
    "#### Fitting curve"
   ]
  },
  {
   "cell_type": "markdown",
   "metadata": {},
   "source": [
    "Generate a fitting curve by controlling the model complexity - tree depth."
   ]
  },
  {
   "cell_type": "code",
   "execution_count": 29,
   "metadata": {},
   "outputs": [
    {
     "data": {
      "image/png": "[encoded data removed]",
      "text/plain": [
       "<matplotlib.figure.Figure at 0x1e70bc2b588>"
      ]
     },
     "metadata": {},
     "output_type": "display_data"
    }
   ],
   "source": [
    "# Let's fit our training data size to 80%\n",
    "X_train, X_test, Y_train, Y_test = train_test_split(X, Y, test_size=0.80)\n",
    "\n",
    "# Let's try different max depths for a decision tree\n",
    "max_depths = range(1, 20)\n",
    "accuracies = []\n",
    "train_accur = []\n",
    "\n",
    "for max_depth in max_depths:\n",
    "    # This will create an empty decision tree at a specified max depth\n",
    "    tree = DecisionTreeClassifier(max_depth=max_depth)\n",
    "    \n",
    "    # This will fit/train your tree\n",
    "    tree.fit(X_train, Y_train)\n",
    "    \n",
    "    # This will get accuracy and keep track of it\n",
    "    Y_test_predicted = tree.predict(X_test)\n",
    "    Y_train_predicated = tree.predict(X_train)\n",
    "    accuracies.append(accuracy_score(Y_test_predicted, Y_test))\n",
    "    train_accur.append(accuracy_score(Y_train_predicated, Y_train))\n",
    "\n",
    "# We want to plot our results\n",
    "# plt.plot(max_depths, accuracies，label='Test Set')\n",
    "# plt.plot(max_depths, train_accur, label='Training Set')\n",
    "\n",
    "plt.plot(max_depths, accuracies, label='Test Set')\n",
    "plt.plot(max_depths, train_accur, label='Training Set')\n",
    "plt.legend()\n",
    "\n",
    "plt.ylabel(\"Accuracy\")\n",
    "plt.xlabel(\"Max depth (model complexity)\")\n",
    "plt.show()"
   ]
  },
  {
   "cell_type": "code",
   "execution_count": null,
   "metadata": {
    "collapsed": true
   },
   "outputs": [],
   "source": []
  }
 ],
 "metadata": {
  "kernelspec": {
   "display_name": "Python 3",
   "language": "python",
   "name": "python3"
  },
  "language_info": {
   "codemirror_mode": {
    "name": "ipython",
    "version": 3
   },
   "file_extension": ".py",
   "mimetype": "text/x-python",
   "name": "python",
   "nbconvert_exporter": "python",
   "pygments_lexer": "ipython3",
   "version": "3.6.2"
  }
 },
 "nbformat": 4,
 "nbformat_minor": 1
}
