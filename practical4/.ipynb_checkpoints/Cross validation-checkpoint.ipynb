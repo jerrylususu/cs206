{
 "cells": [
  {
   "cell_type": "markdown",
   "metadata": {},
   "source": [
    "# Practical 4\n",
    "### Cross validation"
   ]
  },
  {
   "cell_type": "markdown",
   "metadata": {},
   "source": [
    "This practical examines applying cross validation. It is straight forward to apply using sklearn, however be sure you understand also what cross validation means: review the text book, and lecture 5 and the manual for sklearn implementations (http://scikit-learn.org/stable/modules/cross_validation.html) also search online (e.g. see https://blog.csdn.net/zjsghww/article/details/51603814)."
   ]
  },
  {
   "cell_type": "markdown",
   "metadata": {},
   "source": [
    "Import libraries for use later"
   ]
  },
  {
   "cell_type": "code",
   "execution_count": 5,
   "metadata": {},
   "outputs": [],
   "source": [
    "# Pandas \n",
    "import pandas as pd\n",
    "import numpy as np\n",
    "\n",
    "# matplotlib\n",
    "import matplotlib.pylab as plt\n",
    "%matplotlib inline\n",
    "\n",
    "# Decision trees and logistic regression\n",
    "from sklearn.tree import DecisionTreeClassifier\n",
    "from sklearn.linear_model import LogisticRegression\n",
    "\n",
    "# Train, test, and evaluation functions\n",
    "from sklearn.metrics import accuracy_score\n",
    "from sklearn.model_selection  import cross_val_score"
   ]
  },
  {
   "cell_type": "markdown",
   "metadata": {},
   "source": [
    "### Data\n",
    "We're going to use a dataset from Kaggle that contains information on some passengers from the sinking of the Titanic. This data set has 10 columns.\n",
    "\n",
    "![title](images/titanic.jpg)\n",
    "\n",
    "The columns (features) are:\n",
    "\n",
    "```\n",
    "Col.  Name        Description\n",
    "----- ----------- ----------------------------------------------------------------\n",
    "1     Survived    Survival (0 = No; 1 = Yes)\n",
    "2     Pclass      Passenger Class (1 = 1st; 2 = 2nd; 3 = 3rd)\n",
    "3     Sex         Sex (0 = Female, 1 = Male)\n",
    "4     Age         Age\n",
    "5     SibSp       Number of Siblings/Spouses Aboard\n",
    "6     Parch       Number of Parents/Children Aboard\n",
    "7     Fare        Passenger Fare\n",
    "8     Embarked_S  Embarked from Southampton\n",
    "9     Embarked_C  Embarked from Cherbourg\n",
    "10    Embarked_Q  Embarked from Queenstown\n",
    "```\n",
    "\n",
    "Our goal is to build a model to predict if people survived the sinking (the first column, called `\"Survived\"`."
   ]
  },
  {
   "cell_type": "markdown",
   "metadata": {},
   "source": [
    "### Grid Searching for a Decision Tree\n",
    "Below is some simple code to use 10-fold cross validation to get the performance for different decision trees with varying levels of complexity."
   ]
  },
  {
   "cell_type": "code",
   "execution_count": 8,
   "metadata": {},
   "outputs": [
    {
     "data": {
      "image/png": "[encoded data removed]",
      "text/plain": [
       "<matplotlib.figure.Figure at 0x2ad31d899b0>"
      ]
     },
     "metadata": {},
     "output_type": "display_data"
    }
   ],
   "source": [
    "# Read data using pandas\n",
    "data = pd.read_csv(\"data/titanic.csv\")\n",
    "\n",
    "# Split into X and Y\n",
    "X = data.drop(['Survived'], 1)\n",
    "Y = data['Survived']\n",
    "\n",
    "# I will try maximum depths from 1 to 16\n",
    "complexity_values = range(1,16)\n",
    "\n",
    "# I need an empty list to hold my accuracies\n",
    "accuracies = []\n",
    "\n",
    "# Go through each complexity_value one at a time.\n",
    "for complexity_value in complexity_values:\n",
    "    # This will create an empty tree with a specific maximum depth (complexity)\n",
    "    tree = DecisionTreeClassifier(criterion=\"entropy\", max_depth=complexity_value)\n",
    "    \n",
    "    # This will get us 10-fold cross validation accuracy with our tree and our data\n",
    "    # We can do this in one line!\n",
    "    cross_fold_accuracies = cross_val_score(tree, X, Y, scoring=\"accuracy\", cv=10)\n",
    "    \n",
    "    # Average accuracy for all tests\n",
    "    average_cross_fold_accuracy = np.mean(cross_fold_accuracies)\n",
    "    \n",
    "    # Append this accuracy to a list of accuracies\n",
    "    accuracies.append(average_cross_fold_accuracy)\n",
    "\n",
    "# Plot results for different complexity levels\n",
    "plt.plot(complexity_values, accuracies)\n",
    "plt.xlabel(\"Maximum Depth\")\n",
    "plt.ylabel(\"Accuracy\")\n",
    "plt.show()"
   ]
  },
  {
   "cell_type": "markdown",
   "metadata": {
    "collapsed": true
   },
   "source": [
    "### Team work\n",
    "Get together with your teams and modify this code block to try different logistic regressions. \n",
    "\n",
    "Remember, here complexity if called $C$. $C$ is used like `max_depth` for instance is used to control complexity in a decision tree.\n",
    "\n",
    "This value is similar to the $\\lambda$ value discussed in class - see slide 41 in lecture 5, and p 137 in the text  - however note that here smaller values of $C$ correspond to a stronger regularization penalty, i.e. $C = \\frac{1}{\\lambda}$). \n",
    "\n",
    "Normal ranges for $C$ are powers of 10. For example: ..., 0.01, 0.1, 1, 1.0, 10.0, ... \n",
    "\n",
    "**Try different values of $C$ to try to find the best model.**\n",
    "\n",
    "**What are your thoughts in comparing decision trees and logistic regression?**"
   ]
  },
  {
   "cell_type": "code",
   "execution_count": 7,
   "metadata": {},
   "outputs": [
    {
     "ename": "TypeError",
     "evalue": "cross_val_score() missing 1 required positional argument: 'X'",
     "output_type": "error",
     "traceback": [
      "\u001b[1;31m---------------------------------------------------------------------------\u001b[0m",
      "\u001b[1;31mTypeError\u001b[0m                                 Traceback (most recent call last)",
      "\u001b[1;32m<ipython-input-7-dc9fcf508f3f>\u001b[0m in \u001b[0;36m<module>\u001b[1;34m()\u001b[0m\n\u001b[0;32m     19\u001b[0m     \u001b[1;31m# This will get us 10-fold cross validation accuracy with our logistic reg. and our data\u001b[0m\u001b[1;33m\u001b[0m\u001b[1;33m\u001b[0m\u001b[0m\n\u001b[0;32m     20\u001b[0m     \u001b[1;31m# We can do this in one line!\u001b[0m\u001b[1;33m\u001b[0m\u001b[1;33m\u001b[0m\u001b[0m\n\u001b[1;32m---> 21\u001b[1;33m     \u001b[0mcross_fold_accuracies\u001b[0m \u001b[1;33m=\u001b[0m \u001b[0mcross_val_score\u001b[0m\u001b[1;33m(\u001b[0m\u001b[1;33m...\u001b[0m\u001b[1;33m)\u001b[0m\u001b[1;33m\u001b[0m\u001b[0m\n\u001b[0m\u001b[0;32m     22\u001b[0m \u001b[1;33m\u001b[0m\u001b[0m\n\u001b[0;32m     23\u001b[0m     \u001b[1;31m# Average accuracy\u001b[0m\u001b[1;33m\u001b[0m\u001b[1;33m\u001b[0m\u001b[0m\n",
      "\u001b[1;31mTypeError\u001b[0m: cross_val_score() missing 1 required positional argument: 'X'"
     ]
    }
   ],
   "source": [
    "# Read data using pandas\n",
    "data = pd.read_csv(\"data/titanic.csv\")\n",
    "\n",
    "# Split into X and Y\n",
    "X = data.drop(['Survived'], 1)\n",
    "Y = data['Survived']\n",
    "\n",
    "# Try different regularizations (powers of 10)\n",
    "complexity_values = [...]\n",
    "\n",
    "# We need an empty list to hold the accuracies\n",
    "accuracies = []\n",
    "\n",
    "# I will go through each complexity_value one at a time.\n",
    "for complexity_value in complexity_values:\n",
    "    # This will create an empty logistic regression with a particular regularization (C)\n",
    "    logistic = LogisticRegression(C=...)\n",
    "    \n",
    "    # This will get us 10-fold cross validation accuracy with our logistic reg. and our data\n",
    "    # We can do this in one line!\n",
    "    cross_fold_accuracies = cross_val_score(...)\n",
    "    \n",
    "    # Average accuracy\n",
    "    average_cross_fold_accuracy = np.mean(cross_fold_accuracies)\n",
    "    \n",
    "    # Append this accuracy to a list of accuracies\n",
    "    accuracies.append(average_cross_fold_accuracy)\n",
    "\n",
    "# We want to plot our results\n",
    "plt.plot(...)\n",
    "plt.xlabel(\"...\")\n",
    "plt.ylabel(\"...\")\n",
    "plt.show()"
   ]
  },
  {
   "cell_type": "code",
   "execution_count": null,
   "metadata": {},
   "outputs": [],
   "source": []
  }
 ],
 "metadata": {
  "kernelspec": {
   "display_name": "Python 3",
   "language": "python",
   "name": "python3"
  },
  "language_info": {
   "codemirror_mode": {
    "name": "ipython",
    "version": 3
   },
   "file_extension": ".py",
   "mimetype": "text/x-python",
   "name": "python",
   "nbconvert_exporter": "python",
   "pygments_lexer": "ipython3",
   "version": "3.6.4"
  }
 },
 "nbformat": 4,
 "nbformat_minor": 1
}
