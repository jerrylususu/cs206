{
 "cells": [
  {
   "cell_type": "markdown",
   "metadata": {},
   "source": [
    "# This is the practice on numpy"
   ]
  },
  {
   "cell_type": "markdown",
   "metadata": {},
   "source": [
    "here is a useful reference :\n",
    "http://docs.scipy.org/doc/numpy/reference/arrays.ndarray.html"
   ]
  },
  {
   "cell_type": "code",
   "execution_count": 4,
   "metadata": {},
   "outputs": [],
   "source": [
    "import numpy as np"
   ]
  },
  {
   "cell_type": "markdown",
   "metadata": {},
   "source": [
    "# 1. Reverse a vector (first element becomes last)"
   ]
  },
  {
   "cell_type": "code",
   "execution_count": 6,
   "metadata": {
    "scrolled": true
   },
   "outputs": [
    {
     "data": {
      "text/plain": [
       "array([49, 48, 47, 46, 45, 44, 43, 42, 41, 40, 39, 38, 37, 36, 35, 34, 33,\n",
       "       32, 31, 30, 29, 28, 27, 26, 25, 24, 23, 22, 21, 20, 19, 18, 17, 16,\n",
       "       15, 14, 13, 12, 11, 10,  9,  8,  7,  6,  5,  4,  3,  2,  1,  0])"
      ]
     },
     "execution_count": 6,
     "metadata": {},
     "output_type": "execute_result"
    }
   ],
   "source": [
    "x = np.arange(50)\n",
    "              #complete here ,to reverse x\n",
    "x[::-1]"
   ]
  },
  {
   "cell_type": "markdown",
   "metadata": {},
   "source": [
    "# 2. Create a 2d array with 1 on the border and 0 inside "
   ]
  },
  {
   "cell_type": "code",
   "execution_count": 14,
   "metadata": {},
   "outputs": [
    {
     "data": {
      "text/plain": [
       "array([[1., 1., 1., 1., 1., 1., 1., 1., 1., 1.],\n",
       "       [1., 0., 0., 0., 0., 0., 0., 0., 0., 1.],\n",
       "       [1., 0., 0., 0., 0., 0., 0., 0., 0., 1.],\n",
       "       [1., 0., 0., 0., 0., 0., 0., 0., 0., 1.],\n",
       "       [1., 0., 0., 0., 0., 0., 0., 0., 0., 1.],\n",
       "       [1., 0., 0., 0., 0., 0., 0., 0., 0., 1.],\n",
       "       [1., 0., 0., 0., 0., 0., 0., 0., 0., 1.],\n",
       "       [1., 0., 0., 0., 0., 0., 0., 0., 0., 1.],\n",
       "       [1., 0., 0., 0., 0., 0., 0., 0., 0., 1.],\n",
       "       [1., 1., 1., 1., 1., 1., 1., 1., 1., 1.]])"
      ]
     },
     "execution_count": 14,
     "metadata": {},
     "output_type": "execute_result"
    }
   ],
   "source": [
    "x = np.ones((10,10))\n",
    "x[1:-1,1:-1]=0\n",
    "                    #complete here ,to make output as following sample \n",
    "x"
   ]
  },
  {
   "cell_type": "markdown",
   "metadata": {},
   "source": [
    "# 3. Multiply a 2x2 matrix (a) by a 2x2 matrix(b)  (real matrix product)"
   ]
  },
  {
   "cell_type": "code",
   "execution_count": 18,
   "metadata": {},
   "outputs": [
    {
     "data": {
      "text/plain": [
       "array([[2., 2.],\n",
       "       [2., 2.]])"
      ]
     },
     "execution_count": 18,
     "metadata": {},
     "output_type": "execute_result"
    }
   ],
   "source": [
    "a = np.ones((2,2))\n",
    "b = np.ones((2,2))\n",
    "c = np.matmul(a,b)\n",
    "                   #complete here ,to make output as following sample \n",
    "c"
   ]
  },
  {
   "cell_type": "markdown",
   "metadata": {},
   "source": [
    "# 4. Create random vector of size 10 and replace the maximum value by 0"
   ]
  },
  {
   "cell_type": "code",
   "execution_count": 31,
   "metadata": {},
   "outputs": [
    {
     "name": "stdout",
     "output_type": "stream",
     "text": [
      "[0.93063554 0.81198424 0.9293956  0.76327973 0.0593813  0.51986616\n",
      " 0.6333121  0.77985134 0.89249379 0.37983125]\n",
      "0\n",
      "[0.         0.81198424 0.9293956  0.76327973 0.0593813  0.51986616\n",
      " 0.6333121  0.77985134 0.89249379 0.37983125]\n"
     ]
    }
   ],
   "source": [
    "Z = np.random.random(10)\n",
    "print(Z)\n",
    "print(Z.argmax())\n",
    "Z[Z.argmax()]=0                     #complete here ,to make output as following sample \n",
    "print(Z)"
   ]
  },
  {
   "cell_type": "markdown",
   "metadata": {},
   "source": [
    "# 5. How to find the closest value (to a given scalar) in an array? "
   ]
  },
  {
   "cell_type": "code",
   "execution_count": 53,
   "metadata": {},
   "outputs": [
    {
     "name": "stdout",
     "output_type": "stream",
     "text": [
      "[0 1 2 3 4 5 6 7 8 9]\n",
      "4.785668919188831\n",
      "5\n"
     ]
    }
   ],
   "source": [
    "z = np.arange(10)\n",
    "v = np.random.uniform(0,10)\n",
    "print(z)\n",
    "print(v)                \n",
    "index = np.abs(v-z).argmin()                          #complete here ,to make output as following sample\n",
    "print(z[index])"
   ]
  },
  {
   "cell_type": "markdown",
   "metadata": {},
   "source": [
    "# 6. Create a 8x8 matrix and fill it with a checkerboard pattern"
   ]
  },
  {
   "cell_type": "code",
   "execution_count": 63,
   "metadata": {},
   "outputs": [
    {
     "name": "stdout",
     "output_type": "stream",
     "text": [
      "[[1 0 1 0 1 0 1 0]\n",
      " [0 1 0 1 0 1 0 1]\n",
      " [1 0 1 0 1 0 1 0]\n",
      " [0 1 0 1 0 1 0 1]\n",
      " [1 0 1 0 1 0 1 0]\n",
      " [0 1 0 1 0 1 0 1]\n",
      " [1 0 1 0 1 0 1 0]\n",
      " [0 1 0 1 0 1 0 1]]\n"
     ]
    }
   ],
   "source": [
    "Z = np.zeros((8,8),dtype=int)\n",
    "Z[:-1:2,:-1:2] = 1\n",
    "Z[1::2,1::2] = 1                          #complete here ,to make output as following sample \n",
    "\n",
    "print(Z)"
   ]
  },
  {
   "cell_type": "markdown",
   "metadata": {},
   "source": [
    "# 7. Normalize a 5x5 random matrix "
   ]
  },
  {
   "cell_type": "code",
   "execution_count": 135,
   "metadata": {},
   "outputs": [
    {
     "name": "stdout",
     "output_type": "stream",
     "text": [
      "[[0.89317277 0.21752408 0.42550834 0.66443857 0.26573413]\n",
      " [0.9345935  0.58047824 0.79963842 0.8282217  0.54413509]\n",
      " [0.8286471  0.07052149 0.9621918  0.14383761 0.42285026]\n",
      " [0.87806336 0.4766916  0.95551898 0.15704386 0.52658139]\n",
      " [0.26240223 0.52835739 0.93667218 0.4725491  0.68105187]]\n",
      "[[0.92259579 0.16486204 0.39811446 0.6660725  0.21892917]\n",
      " [0.96904876 0.57191177 0.81769789 0.84975377 0.53115326]\n",
      " [0.85023085 0.         1.         0.08222334 0.39513345]\n",
      " [0.90565073 0.45551602 0.99251649 0.09703403 0.51146695]\n",
      " [0.21519247 0.51345872 0.97137998 0.45087024 0.68470417]]\n"
     ]
    }
   ],
   "source": [
    "Z = np.random.random((5,5))\n",
    "\n",
    "#complete here ,to make output as following sample\n",
    "\n",
    "print(Z)\n",
    "Z = (Z-Z.min())/(Z.max()-Z.min())\n",
    "print(Z)\n"
   ]
  },
  {
   "cell_type": "markdown",
   "metadata": {},
   "source": [
    "# 8. Extract the integer part of a random array using 5 different methods "
   ]
  },
  {
   "cell_type": "code",
   "execution_count": 136,
   "metadata": {},
   "outputs": [
    {
     "name": "stdout",
     "output_type": "stream",
     "text": [
      "[0. 4. 6. 6. 5. 0. 6. 4. 0. 2.]\n",
      "[0. 4. 6. 6. 5. 0. 6. 4. 0. 2.]\n",
      "[0. 4. 6. 6. 5. 0. 6. 4. 0. 2.]\n",
      "[0 4 6 6 5 0 6 4 0 2]\n",
      "[0. 4. 6. 6. 5. 0. 6. 4. 0. 2.]\n"
     ]
    }
   ],
   "source": [
    "Z = np.random.uniform(0,10,10)\n",
    "\n",
    "print (Z - Z%1)\n",
    "print (np.floor(Z))\n",
    "print (np.ceil(Z)-1)\n",
    "print (Z.astype(int))\n",
    "print (np.trunc(Z))"
   ]
  },
  {
   "cell_type": "markdown",
   "metadata": {},
   "source": [
    "# 9. Consider a random 10x2 matrix representing cartesian coordinates, convert them to polar coordinates"
   ]
  },
  {
   "cell_type": "code",
   "execution_count": 167,
   "metadata": {},
   "outputs": [
    {
     "name": "stdout",
     "output_type": "stream",
     "text": [
      "[[0.04323221 0.14964598]\n",
      " [0.14456253 0.6118188 ]\n",
      " [0.18623604 0.24794557]\n",
      " [0.86215762 0.72454264]\n",
      " [0.31167254 0.63045274]\n",
      " [0.56762348 0.08240815]\n",
      " [0.60298642 0.37409813]\n",
      " [0.58797266 0.72900109]\n",
      " [0.13491084 0.70517854]\n",
      " [0.35112005 0.32277531]]\n",
      "[0.15576567 0.6286657  0.31009816 1.1261784  0.70328545 0.57357434\n",
      " 0.70960695 0.93656523 0.71796776 0.4769373 ]\n",
      "[0.1485437  0.5490645  0.24304415 0.62700834 0.56251078 0.08222236\n",
      " 0.35797975 0.6299258  0.61419304 0.31221843]\n",
      "[[0.15576567 0.1485437 ]\n",
      " [0.6286657  0.5490645 ]\n",
      " [0.31009816 0.24304415]\n",
      " [1.1261784  0.62700834]\n",
      " [0.70328545 0.56251078]\n",
      " [0.57357434 0.08222236]\n",
      " [0.70960695 0.35797975]\n",
      " [0.93656523 0.6299258 ]\n",
      " [0.71796776 0.61419304]\n",
      " [0.4769373  0.31221843]]\n"
     ]
    }
   ],
   "source": [
    "Z = np.random.random((10,2))\n",
    "print(Z)\n",
    "X,Y = Z[:,0], Z[:,1]\n",
    "R = np.sqrt(X**2+Y**2)                          #complete here ,to make output as following sample \n",
    "T = np.arctan(Y,X)\n",
    "print(R)\n",
    "print(T)\n",
    "Z = np.zeros((10,2))      # dirty but works\n",
    "Z[:,0] = R\n",
    "Z[:,1] = T\n",
    "print(Z)"
   ]
  },
  {
   "cell_type": "markdown",
   "metadata": {},
   "source": [
    "# 10. Tell the difference between view and copy, among b,c,d which is shade copy of a, which is deep copy of a?"
   ]
  },
  {
   "cell_type": "code",
   "execution_count": 82,
   "metadata": {},
   "outputs": [
    {
     "name": "stdout",
     "output_type": "stream",
     "text": [
      "b:\n",
      "[[0 0 0]\n",
      " [4 5 6]]\n",
      "a:\n",
      "[[0 0 0]\n",
      " [4 5 6]]\n",
      "c:\n",
      "[-1  4]\n",
      "a:\n",
      "[[ 0 -1  0]\n",
      " [ 4  4  6]]\n",
      "d:\n",
      "[[0 0 0]\n",
      " [0 0 0]]\n",
      "a:\n",
      "[[ 0 -1  0]\n",
      " [ 4  4  6]]\n"
     ]
    }
   ],
   "source": [
    "#creat a\n",
    "a = np.array([[1,2,3],[4,5,6]])\n",
    "# b is another reference object of the array\n",
    "b = a\n",
    "#change b\n",
    "b[0]=0\n",
    "print(\"b:\")\n",
    "print(b)\n",
    "print(\"a:\")\n",
    "print(a)\n",
    "\n",
    "# c is the view on piece of a\n",
    "c = a[:,1]\n",
    "#change c\n",
    "c += -1\n",
    "print(\"c:\")\n",
    "print (c)\n",
    "print(\"a:\")\n",
    "print(a)\n",
    "\n",
    "# d is a copy of a\n",
    "d = a.copy()\n",
    "d -=d\n",
    "print(\"d:\")\n",
    "print(d)\n",
    "print(\"a:\")\n",
    "print(a)\n"
   ]
  },
  {
   "cell_type": "markdown",
   "metadata": {},
   "source": [
    "Solutions: b,c is a shadow copy, and d is a deep copy. Since changes on b,c will still affect a, but changes on d won't."
   ]
  }
 ],
 "metadata": {
  "kernelspec": {
   "display_name": "Python 3",
   "language": "python",
   "name": "python3"
  },
  "language_info": {
   "codemirror_mode": {
    "name": "ipython",
    "version": 3
   },
   "file_extension": ".py",
   "mimetype": "text/x-python",
   "name": "python",
   "nbconvert_exporter": "python",
   "pygments_lexer": "ipython3",
   "version": "3.6.4"
  }
 },
 "nbformat": 4,
 "nbformat_minor": 2
}
