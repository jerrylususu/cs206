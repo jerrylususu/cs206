{
 "cells": [
  {
   "cell_type": "markdown",
   "metadata": {},
   "source": [
    "# Introduction to Data Mining\n",
    "## Practical 5 excercises"
   ]
  },
  {
   "cell_type": "markdown",
   "metadata": {},
   "source": [
    "### Written question\n",
    "Answer each of the following questions. "
   ]
  },
  {
   "cell_type": "markdown",
   "metadata": {},
   "source": [
    "1\\. Consider two different ROC curves:\n",
    "\n",
    "- a line that goes from point (0, 0) to (1, 1), i.e., a 45-degreee line\n",
    "- a curve that goes from point (0, 0) to (0, 1) and then to (1, 1), i.e. a sharp 90-degree corner\n",
    "\n",
    "What is the area under each curve? What can you say about the ranking of all the records by their probability? Which of these is more desirable? "
   ]
  },
  {
   "cell_type": "markdown",
   "metadata": {},
   "source": [
    "Answer here!"
   ]
  },
  {
   "cell_type": "markdown",
   "metadata": {},
   "source": [
    "***"
   ]
  },
  {
   "cell_type": "markdown",
   "metadata": {},
   "source": [
    "### Part 3: Cost/Benefit Matrix\n",
    "1\\. Imagine that you work for an online advertising company that has just been hired to advertise a new local restaurant online. Let's say that it costs \\$0.015 to present a coupon ad to online consumers. If a consumer cashes in your coupon, you stand to earn \\$5. Given this information, what would your cost/benefit matrix be? Explain your reasoning briefly. **`[`*`10 points`*`]`**"
   ]
  },
  {
   "cell_type": "markdown",
   "metadata": {},
   "source": [
    "```\n",
    "     p      n\n",
    "Y  $xxxx  $xxxx\n",
    "N  $xxxx  $xxxx\n",
    "```\n",
    "\n",
    "Explanation here!"
   ]
  },
  {
   "cell_type": "markdown",
   "metadata": {},
   "source": [
    "***"
   ]
  },
  {
   "cell_type": "markdown",
   "metadata": {},
   "source": [
    "### Part 4. Hands-on"
   ]
  },
  {
   "cell_type": "markdown",
   "metadata": {},
   "source": [
    "For your hands-on excercise, I am going to ask you to build two ROC curves. For this example we will be using the `data/cell2cell.csv` data (this is the same data set we used in Homework 2).\n",
    "\n",
    "These historical data consist of 31,892 customers: 15,855 customers that churned (i.e., left the company) and 16,036 that did not churn. Here are the data set's 12 columns:\n",
    "\n",
    "```\n",
    "Col.  Var. Name  Var. Description\n",
    "----- ---------- --------------------------------------------------------------\n",
    "1     revenue    Mean monthly revenue in dollars\n",
    "2     outcalls   Mean number of outbound voice calls\n",
    "3     incalls    Mean number of inbound voice calls\n",
    "4     months     Months in Service\n",
    "5     eqpdays    Number of days the customer has had his/her current equipment\n",
    "6     webcap     Handset is web capable\n",
    "7     marryyes   Married (1=Yes; 0=No)\n",
    "8     travel     Has traveled to non-US country (1=Yes; 0=No)\n",
    "9     pcown      Owns a personal computer (1=Yes; 0=No)\n",
    "10    creditcd   Possesses a credit card (1=Yes; 0=No)\n",
    "11    retcalls   Number of calls previously made to retention team\n",
    "12    churndep   Did the customer churn (1=Yes; 0=No)\n",
    "```\n",
    "\n",
    "The first 11 columns are our attributes/features. The last column, `\"churndep\"`, is the target variable."
   ]
  },
  {
   "cell_type": "markdown",
   "metadata": {},
   "source": [
    "1\\. For this coding piece you should:\n",
    "- Randomly assign 75% of your data into training and the remaining 25% into test (we are not using cross-validation here since it is slightly more difficult to implement).\n",
    "- Train a logistic regression model and use the test data to get the data to create an ROC curve.\n",
    "- Train a decision tree model (`criterion=\"entropy\"`) and use the test data to get the data to create an ROC curve.\n",
    "- Plot both ROC curves on one plot (don't forget a legend so I can tell which curve is which)\n",
    "\n",
    "This is very similar to what we did in the Hands-on portion in Module 6. You should only really need to change the pieces with red-triple dots. **`[`*`15 points`*`]`**"
   ]
  },
  {
   "cell_type": "code",
   "execution_count": null,
   "metadata": {
    "collapsed": true
   },
   "outputs": [],
   "source": [
    "# import pandas as pd\n",
    "from sklearn.cross_validation import train_test_split\n",
    "from sklearn.tree import DecisionTreeClassifier\n",
    "from sklearn.linear_model import LogisticRegression\n",
    "from sklearn.metrics import roc_curve\n",
    "import matplotlib.pylab as plt\n",
    "%matplotlib inline\n",
    "\n",
    "# Read in our csv data\n",
    "data = pd.read_csv(...)\n",
    "\n",
    "# Put all features into X and the target variable into Y\n",
    "X = data.drop(...)\n",
    "Y = data[...]\n",
    "\n",
    "# Split the data into 75% training and 25% testing\n",
    "X_train, X_test, Y_train, Y_test = train_test_split(X, Y, train_size=0.75)\n",
    "\n",
    "# Create both models\n",
    "tree = ...\n",
    "logistic = ...\n",
    "\n",
    "# Fit both models\n",
    "tree. ...\n",
    "logistic. ...\n",
    "\n",
    "# Get probabilities for each model on the test data\n",
    "Y_test_probabilities_tree = tree.predict_proba(...)[:, 1]\n",
    "Y_test_probabilities_logistic = logistic.predict_proba(...)[:, 1]\n",
    "\n",
    "# Get TPR and FPR for each model\n",
    "fpr_tree, tpr_tree, thresholds_tree = roc_curve(...)\n",
    "fpr_logistic, tpr_logistic, thresholds_logistic = roc_curve(...)\n",
    "    \n",
    "# Plot two ROC curves on one plot. Don't forget labels and your legend\n",
    "plt.plot(...)\n",
    "plt.plot(...)\n",
    "\n",
    "plt.show()"
   ]
  },
  {
   "cell_type": "markdown",
   "metadata": {},
   "source": [
    "2\\. Discuss your observations of the ROC curves above. Are they similar? How well are they doing? Do you like one more than the other? **[*5 points*]**."
   ]
  },
  {
   "cell_type": "markdown",
   "metadata": {},
   "source": [
    "Answer here!"
   ]
  },
  {
   "cell_type": "markdown",
   "metadata": {},
   "source": [
    "3\\. These models are using their default complexity parameters (the decision tree can be very large and the logistic regression has no regularization). Do you think looking at just these two ROC curves is enough to pick the *best* model? What else might you want to explore to choose the best possible model? **[*5 points*]**."
   ]
  },
  {
   "cell_type": "markdown",
   "metadata": {},
   "source": [
    "Answer here!"
   ]
  }
 ],
 "metadata": {
  "kernelspec": {
   "display_name": "Python 3",
   "language": "python",
   "name": "python3"
  },
  "language_info": {
   "codemirror_mode": {
    "name": "ipython",
    "version": 3
   },
   "file_extension": ".py",
   "mimetype": "text/x-python",
   "name": "python",
   "nbconvert_exporter": "python",
   "pygments_lexer": "ipython3",
   "version": "3.6.4"
  }
 },
 "nbformat": 4,
 "nbformat_minor": 1
}
